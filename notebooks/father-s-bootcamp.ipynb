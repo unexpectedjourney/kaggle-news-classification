{
 "cells": [
  {
   "cell_type": "code",
   "execution_count": 1,
   "metadata": {},
   "outputs": [
    {
     "name": "stdout",
     "output_type": "stream",
     "text": [
      "/home/antonbabenko/Projects/newsclass01\n"
     ]
    }
   ],
   "source": [
    "%cd .."
   ]
  },
  {
   "cell_type": "code",
   "execution_count": 2,
   "metadata": {
    "papermill": {
     "duration": 2.1644,
     "end_time": "2021-01-26T21:57:20.895793",
     "exception": false,
     "start_time": "2021-01-26T21:57:18.731393",
     "status": "completed"
    },
    "tags": []
   },
   "outputs": [],
   "source": [
    "import re\n",
    "from pathlib import Path\n",
    "\n",
    "import numpy as np\n",
    "import pandas as pd\n",
    "import matplotlib.pyplot as plt\n",
    "import seaborn as sns\n",
    "from sklearn.feature_extraction.text import TfidfVectorizer\n",
    "from sklearn.linear_model import LogisticRegression\n",
    "from sklearn.model_selection import train_test_split\n",
    "from sklearn.metrics import classification_report\n",
    "\n",
    "%config InlineBackend.figure_format = \"retina\""
   ]
  },
  {
   "cell_type": "code",
   "execution_count": 3,
   "metadata": {
    "papermill": {
     "duration": 0.02671,
     "end_time": "2021-01-26T21:57:20.936562",
     "exception": false,
     "start_time": "2021-01-26T21:57:20.909852",
     "status": "completed"
    },
    "tags": []
   },
   "outputs": [],
   "source": [
    "random_state = 42"
   ]
  },
  {
   "cell_type": "code",
   "execution_count": 4,
   "metadata": {
    "papermill": {
     "duration": 0.022577,
     "end_time": "2021-01-26T21:57:20.974125",
     "exception": false,
     "start_time": "2021-01-26T21:57:20.951548",
     "status": "completed"
    },
    "tags": []
   },
   "outputs": [],
   "source": [
    "data_dir = Path(\"data\")\n",
    "train_path = data_dir / \"train.csv\"\n",
    "test_path = data_dir / \"test_without_target.csv\"\n",
    "\n",
    "submission_dir = Path(\"submissions\")\n",
    "submission_path = submission_dir / \"nlp\" / \"base_submission.csv\""
   ]
  },
  {
   "cell_type": "code",
   "execution_count": 5,
   "metadata": {
    "papermill": {
     "duration": 1.547002,
     "end_time": "2021-01-26T21:57:22.535575",
     "exception": false,
     "start_time": "2021-01-26T21:57:20.988573",
     "status": "completed"
    },
    "tags": []
   },
   "outputs": [],
   "source": [
    "train_df = pd.read_csv(train_path)\n",
    "test_df = pd.read_csv(test_path)"
   ]
  },
  {
   "cell_type": "code",
   "execution_count": 6,
   "metadata": {
    "papermill": {
     "duration": 0.034478,
     "end_time": "2021-01-26T21:57:22.584533",
     "exception": false,
     "start_time": "2021-01-26T21:57:22.550055",
     "status": "completed"
    },
    "tags": []
   },
   "outputs": [
    {
     "data": {
      "text/html": [
       "<div>\n",
       "<style scoped>\n",
       "    .dataframe tbody tr th:only-of-type {\n",
       "        vertical-align: middle;\n",
       "    }\n",
       "\n",
       "    .dataframe tbody tr th {\n",
       "        vertical-align: top;\n",
       "    }\n",
       "\n",
       "    .dataframe thead th {\n",
       "        text-align: right;\n",
       "    }\n",
       "</style>\n",
       "<table border=\"1\" class=\"dataframe\">\n",
       "  <thead>\n",
       "    <tr style=\"text-align: right;\">\n",
       "      <th></th>\n",
       "      <th>Id</th>\n",
       "      <th>title</th>\n",
       "      <th>text</th>\n",
       "      <th>images</th>\n",
       "      <th>source</th>\n",
       "    </tr>\n",
       "  </thead>\n",
       "  <tbody>\n",
       "    <tr>\n",
       "      <th>0</th>\n",
       "      <td>1</td>\n",
       "      <td>Міністри Зеленського лишають мільйони пацієнті...</td>\n",
       "      <td>Понад півтора мільйони пацієнтів із тяжкими ді...</td>\n",
       "      <td>NaN</td>\n",
       "      <td>5</td>\n",
       "    </tr>\n",
       "    <tr>\n",
       "      <th>1</th>\n",
       "      <td>2</td>\n",
       "      <td>В АМКУ звертаються щодо незаконної державної д...</td>\n",
       "      <td>За 15 років державна підтримка виробництва ене...</td>\n",
       "      <td>fd92a3dd-1109-49d8-8f5f-eeed72da22ef.png</td>\n",
       "      <td>6</td>\n",
       "    </tr>\n",
       "    <tr>\n",
       "      <th>2</th>\n",
       "      <td>5</td>\n",
       "      <td>У Польщі виявили майже 16 тисяч нових хворих н...</td>\n",
       "      <td>У Польщі виявили 15 698 нових хворих на корона...</td>\n",
       "      <td>f4a284d0-9bb7-4910-8a62-a7bfd0ec29b6.png</td>\n",
       "      <td>2</td>\n",
       "    </tr>\n",
       "    <tr>\n",
       "      <th>3</th>\n",
       "      <td>9</td>\n",
       "      <td>Закриття міжбанку: гривня трохи ослабла</td>\n",
       "      <td>2 жовтня котирування гривні до долара на закри...</td>\n",
       "      <td>NaN</td>\n",
       "      <td>3</td>\n",
       "    </tr>\n",
       "    <tr>\n",
       "      <th>4</th>\n",
       "      <td>10</td>\n",
       "      <td>У Москві помер український шахіст із бази \"Мир...</td>\n",
       "      <td>У п'ятницю низка російських ЗМІ повідомили про...</td>\n",
       "      <td>2cbb2339-6dd2-4000-a53c-225ec7aad892.png,d5233...</td>\n",
       "      <td>0</td>\n",
       "    </tr>\n",
       "  </tbody>\n",
       "</table>\n",
       "</div>"
      ],
      "text/plain": [
       "   Id                                              title  \\\n",
       "0   1  Міністри Зеленського лишають мільйони пацієнті...   \n",
       "1   2  В АМКУ звертаються щодо незаконної державної д...   \n",
       "2   5  У Польщі виявили майже 16 тисяч нових хворих н...   \n",
       "3   9            Закриття міжбанку: гривня трохи ослабла   \n",
       "4  10  У Москві помер український шахіст із бази \"Мир...   \n",
       "\n",
       "                                                text  \\\n",
       "0  Понад півтора мільйони пацієнтів із тяжкими ді...   \n",
       "1  За 15 років державна підтримка виробництва ене...   \n",
       "2  У Польщі виявили 15 698 нових хворих на корона...   \n",
       "3  2 жовтня котирування гривні до долара на закри...   \n",
       "4  У п'ятницю низка російських ЗМІ повідомили про...   \n",
       "\n",
       "                                              images  source  \n",
       "0                                                NaN       5  \n",
       "1           fd92a3dd-1109-49d8-8f5f-eeed72da22ef.png       6  \n",
       "2           f4a284d0-9bb7-4910-8a62-a7bfd0ec29b6.png       2  \n",
       "3                                                NaN       3  \n",
       "4  2cbb2339-6dd2-4000-a53c-225ec7aad892.png,d5233...       0  "
      ]
     },
     "execution_count": 6,
     "metadata": {},
     "output_type": "execute_result"
    }
   ],
   "source": [
    "train_df.head()"
   ]
  },
  {
   "cell_type": "code",
   "execution_count": 7,
   "metadata": {
    "papermill": {
     "duration": 0.027188,
     "end_time": "2021-01-26T21:57:22.626841",
     "exception": false,
     "start_time": "2021-01-26T21:57:22.599653",
     "status": "completed"
    },
    "tags": []
   },
   "outputs": [],
   "source": [
    "def preprocess(sentence):\n",
    "    # Remove tags\n",
    "    sentence = re.sub('<[^>]*>', '', sentence)\n",
    "\n",
    "    # Substituting multiple spaces with single space\n",
    "    sentence = re.sub(r'\\s+', ' ', sentence, flags=re.I)\n",
    "\n",
    "    # Removing prefixed 'b'\n",
    "    sentence = re.sub(r'^b\\s+', '', sentence)\n",
    "\n",
    "    # Converting to Lowercase\n",
    "    sentence = sentence.lower()\n",
    "    return sentence"
   ]
  },
  {
   "cell_type": "code",
   "execution_count": 8,
   "metadata": {
    "papermill": {
     "duration": 24.582124,
     "end_time": "2021-01-26T21:57:47.224234",
     "exception": false,
     "start_time": "2021-01-26T21:57:22.642110",
     "status": "completed"
    },
    "tags": []
   },
   "outputs": [],
   "source": [
    "labels = train_df.source.tolist()\n",
    "sentences = [preprocess(sentence) for sentence in train_df.text.tolist()]\n",
    "\n",
    "vectorizer = TfidfVectorizer(max_features=2500, min_df=7, max_df=0.8)\n",
    "sentences = vectorizer.fit_transform(sentences).toarray()"
   ]
  },
  {
   "cell_type": "code",
   "execution_count": 9,
   "metadata": {
    "papermill": {
     "duration": 0.366888,
     "end_time": "2021-01-26T21:57:47.606882",
     "exception": false,
     "start_time": "2021-01-26T21:57:47.239994",
     "status": "completed"
    },
    "tags": []
   },
   "outputs": [],
   "source": [
    "X_train, X_test, y_train, y_test = train_test_split(sentences, labels, test_size=0.2, random_state=random_state)"
   ]
  },
  {
   "cell_type": "code",
   "execution_count": 10,
   "metadata": {
    "papermill": {
     "duration": 5.509974,
     "end_time": "2021-01-26T21:57:53.132380",
     "exception": false,
     "start_time": "2021-01-26T21:57:47.622406",
     "status": "completed"
    },
    "tags": []
   },
   "outputs": [
    {
     "name": "stderr",
     "output_type": "stream",
     "text": [
      "/home/antonbabenko/.local/lib/python3.8/site-packages/sklearn/linear_model/_logistic.py:763: ConvergenceWarning: lbfgs failed to converge (status=1):\n",
      "STOP: TOTAL NO. of ITERATIONS REACHED LIMIT.\n",
      "\n",
      "Increase the number of iterations (max_iter) or scale the data as shown in:\n",
      "    https://scikit-learn.org/stable/modules/preprocessing.html\n",
      "Please also refer to the documentation for alternative solver options:\n",
      "    https://scikit-learn.org/stable/modules/linear_model.html#logistic-regression\n",
      "  n_iter_i = _check_optimize_result(\n"
     ]
    }
   ],
   "source": [
    "model = LogisticRegression()\n",
    "model.fit(X_train, y_train)\n",
    "y_preds = model.predict(X_test)"
   ]
  },
  {
   "cell_type": "code",
   "execution_count": 11,
   "metadata": {
    "papermill": {
     "duration": 0.053182,
     "end_time": "2021-01-26T21:58:01.633127",
     "exception": false,
     "start_time": "2021-01-26T21:58:01.579945",
     "status": "completed"
    },
    "tags": []
   },
   "outputs": [
    {
     "name": "stdout",
     "output_type": "stream",
     "text": [
      "              precision    recall  f1-score   support\n",
      "\n",
      "           0       0.82      0.71      0.76       353\n",
      "           1       0.70      0.74      0.72       678\n",
      "           2       0.95      0.74      0.83       213\n",
      "           3       0.78      0.77      0.78       422\n",
      "           4       0.84      0.90      0.87       548\n",
      "           5       0.79      0.78      0.78       308\n",
      "           6       0.77      0.80      0.78       714\n",
      "\n",
      "    accuracy                           0.78      3236\n",
      "   macro avg       0.81      0.78      0.79      3236\n",
      "weighted avg       0.79      0.78      0.78      3236\n",
      "\n"
     ]
    }
   ],
   "source": [
    "print(classification_report(y_test, y_preds))"
   ]
  },
  {
   "cell_type": "code",
   "execution_count": 12,
   "metadata": {
    "papermill": {
     "duration": 6.089885,
     "end_time": "2021-01-26T21:58:07.739938",
     "exception": false,
     "start_time": "2021-01-26T21:58:01.650053",
     "status": "completed"
    },
    "tags": []
   },
   "outputs": [],
   "source": [
    "test_sentences = [preprocess(sentence) for sentence in test_df.text.tolist()]\n",
    "test_sentences = vectorizer.transform(test_sentences).toarray()\n",
    "\n",
    "test_indeces = test_df.index.tolist()\n",
    "y_test_preds = model.predict(test_sentences)"
   ]
  },
  {
   "cell_type": "code",
   "execution_count": 13,
   "metadata": {
    "papermill": {
     "duration": 0.361018,
     "end_time": "2021-01-26T21:58:08.118373",
     "exception": false,
     "start_time": "2021-01-26T21:58:07.757355",
     "status": "completed"
    },
    "tags": []
   },
   "outputs": [],
   "source": [
    "pd.DataFrame({\"Id\": test_indeces, \"Predicted\": y_test_preds}).to_csv(submission_path, index=False)"
   ]
  },
  {
   "cell_type": "code",
   "execution_count": null,
   "metadata": {
    "papermill": {
     "duration": 0.017929,
     "end_time": "2021-01-26T21:58:08.153702",
     "exception": false,
     "start_time": "2021-01-26T21:58:08.135773",
     "status": "completed"
    },
    "tags": []
   },
   "outputs": [],
   "source": []
  }
 ],
 "metadata": {
  "kernelspec": {
   "display_name": "Python 3",
   "language": "python",
   "name": "python3"
  },
  "language_info": {
   "codemirror_mode": {
    "name": "ipython",
    "version": 3
   },
   "file_extension": ".py",
   "mimetype": "text/x-python",
   "name": "python",
   "nbconvert_exporter": "python",
   "pygments_lexer": "ipython3",
   "version": "3.8.5"
  },
  "papermill": {
   "duration": 54.928553,
   "end_time": "2021-01-26T21:58:08.279683",
   "environment_variables": {},
   "exception": null,
   "input_path": "__notebook__.ipynb",
   "output_path": "__notebook__.ipynb",
   "parameters": {},
   "start_time": "2021-01-26T21:57:13.351130",
   "version": "2.1.0"
  }
 },
 "nbformat": 4,
 "nbformat_minor": 4
}
