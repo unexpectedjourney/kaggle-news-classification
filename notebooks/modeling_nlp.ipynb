{
 "cells": [
  {
   "cell_type": "code",
   "execution_count": 1,
   "id": "cardiovascular-centre",
   "metadata": {},
   "outputs": [
    {
     "name": "stdout",
     "output_type": "stream",
     "text": [
      "/home/antonbabenko/Projects/newsclass01\n"
     ]
    }
   ],
   "source": [
    "%cd .."
   ]
  },
  {
   "cell_type": "code",
   "execution_count": 2,
   "id": "seven-beginning",
   "metadata": {},
   "outputs": [],
   "source": [
    "%load_ext autoreload\n",
    "%autoreload 2\n",
    "%aimport src.model\n",
    "%aimport src.data\n",
    "%aimport src.train\n",
    "%aimport src.eval\n",
    "%aimport src.utils\n",
    "%aimport src.metrics"
   ]
  },
  {
   "cell_type": "code",
   "execution_count": 3,
   "id": "electric-reservation",
   "metadata": {},
   "outputs": [],
   "source": [
    "import datetime\n",
    "from pathlib import Path\n",
    "\n",
    "import numpy as np\n",
    "import pandas as pd\n",
    "import matplotlib.pyplot as plt\n",
    "import seaborn as sns\n",
    "\n",
    "import torch\n",
    "import torch.nn as nn\n",
    "from torch.utils.data import DataLoader, Subset\n",
    "from transformers import AutoTokenizer, AdamW, get_linear_schedule_with_warmup\n",
    "\n",
    "from src.utils import set_seed, load_splits, get_tensorboard_writer\n",
    "from src.data import TextClassificationDataset\n",
    "from src.model import TextClassifier\n",
    "from src.train import fit\n",
    "from src.eval import eval_nlp\n",
    "from src.metrics import f1_macro"
   ]
  },
  {
   "cell_type": "code",
   "execution_count": 4,
   "id": "atmospheric-thong",
   "metadata": {},
   "outputs": [],
   "source": [
    "SEED = 42\n",
    "MAX_SEQ_LEN = 512\n",
    "BATCH_SIZE = 8\n",
    "MODEL_NAME = \"youscan/ukr-roberta-base\"\n",
    "EPOCHS = 20"
   ]
  },
  {
   "cell_type": "code",
   "execution_count": 5,
   "id": "embedded-former",
   "metadata": {},
   "outputs": [],
   "source": [
    "set_seed(SEED)"
   ]
  },
  {
   "cell_type": "code",
   "execution_count": 6,
   "id": "hazardous-extreme",
   "metadata": {},
   "outputs": [],
   "source": [
    "device = torch.device(\"cuda\" if torch.cuda.is_available() else \"cpu\")"
   ]
  },
  {
   "cell_type": "code",
   "execution_count": 7,
   "id": "cellular-coordination",
   "metadata": {},
   "outputs": [],
   "source": [
    "logs_dir = Path(\"logs\") \n",
    "states_dir = Path(\"states\") / \"nlp\"\n",
    "data_dir = Path(\"data\")\n",
    "folds = Path(\"folds\") / \"nlp\"\n",
    "submissions = Path(\"submissions\") / \"nlp\""
   ]
  },
  {
   "cell_type": "code",
   "execution_count": 8,
   "id": "premier-contribution",
   "metadata": {},
   "outputs": [],
   "source": [
    "test_df_path = data_dir / \"test_without_target.csv\""
   ]
  },
  {
   "cell_type": "code",
   "execution_count": 9,
   "id": "french-coast",
   "metadata": {},
   "outputs": [],
   "source": [
    "test_df = pd.read_csv(test_df_path)\n",
    "test_df.text = test_df.title + \" \" + test_df.text"
   ]
  },
  {
   "cell_type": "code",
   "execution_count": 10,
   "id": "assisted-modem",
   "metadata": {},
   "outputs": [],
   "source": [
    "splits = load_splits(folds, val_folds=[2], train_folds=[0, 1, 3, 4]) "
   ]
  },
  {
   "cell_type": "code",
   "execution_count": 11,
   "id": "extended-helen",
   "metadata": {},
   "outputs": [
    {
     "name": "stdout",
     "output_type": "stream",
     "text": [
      "Loading tokenizer...\n"
     ]
    }
   ],
   "source": [
    "print('Loading tokenizer...')\n",
    "tokenizer = AutoTokenizer.from_pretrained(MODEL_NAME, use_fast=True)"
   ]
  },
  {
   "cell_type": "code",
   "execution_count": 12,
   "id": "interracial-citizenship",
   "metadata": {},
   "outputs": [
    {
     "data": {
      "text/plain": [
       "'</s>'"
      ]
     },
     "execution_count": 12,
     "metadata": {},
     "output_type": "execute_result"
    }
   ],
   "source": [
    "tokenizer.sep_token"
   ]
  },
  {
   "cell_type": "code",
   "execution_count": 23,
   "id": "approximate-arlington",
   "metadata": {},
   "outputs": [
    {
     "data": {
      "text/plain": [
       "True"
      ]
     },
     "execution_count": 23,
     "metadata": {},
     "output_type": "execute_result"
    }
   ],
   "source": [
    "splits[\"test\"].empty"
   ]
  },
  {
   "cell_type": "code",
   "execution_count": 24,
   "id": "whole-lucas",
   "metadata": {},
   "outputs": [
    {
     "name": "stdout",
     "output_type": "stream",
     "text": [
      "train\n",
      "val\n"
     ]
    }
   ],
   "source": [
    "for stage in [\"train\", \"val\", \"test\"]:\n",
    "    if not stage in splits or splits[stage].empty:\n",
    "        continue\n",
    "    splits[stage].text = splits[stage].title + \" \" + tokenizer.sep_token + \" \"+ splits[stage].text "
   ]
  },
  {
   "cell_type": "code",
   "execution_count": 10,
   "id": "infectious-queens",
   "metadata": {},
   "outputs": [
    {
     "name": "stderr",
     "output_type": "stream",
     "text": [
      "Token indices sequence length is longer than the specified maximum sequence length for this model (718 > 512). Running this sequence through the model will result in indexing errors\n"
     ]
    },
    {
     "name": "stdout",
     "output_type": "stream",
     "text": [
      "Tokenizing text...\n",
      "DONE.\n"
     ]
    }
   ],
   "source": [
    "lengths = []\n",
    "\n",
    "print('Tokenizing text...')\n",
    "\n",
    "for sen in splits[\"train\"][\"text\"]:\n",
    "    encoded_sent = tokenizer.encode(\n",
    "        sen,                      # Sentence to encode.\n",
    "        add_special_tokens = True, # Add '[CLS]' and '[SEP]'\n",
    "        #max_length = 512,          # Truncate all sentences.                        \n",
    "        #return_tensors = 'pt',     # Return pytorch tensors.\n",
    "   )\n",
    "\n",
    "    lengths.append(len(encoded_sent))\n",
    "\n",
    "print('DONE.')"
   ]
  },
  {
   "cell_type": "code",
   "execution_count": 11,
   "id": "sound-response",
   "metadata": {},
   "outputs": [
    {
     "name": "stdout",
     "output_type": "stream",
     "text": [
      "   Min length: 28 tokens\n",
      "   Max length: 16,709 tokens\n",
      "Median length: 353.0 tokens\n"
     ]
    }
   ],
   "source": [
    "print('   Min length: {:,} tokens'.format(min(lengths)))\n",
    "print('   Max length: {:,} tokens'.format(max(lengths)))\n",
    "print('Median length: {:,} tokens'.format(np.median(lengths)))"
   ]
  },
  {
   "cell_type": "code",
   "execution_count": 12,
   "id": "certain-spice",
   "metadata": {},
   "outputs": [
    {
     "data": {
      "text/plain": [
       "<seaborn.axisgrid.FacetGrid at 0x7fbbf4cab3a0>"
      ]
     },
     "execution_count": 12,
     "metadata": {},
     "output_type": "execute_result"
    },
    {
     "data": {
      "image/png": "[encoded data removed]",
      "text/plain": [
       "<Figure size 360x360 with 1 Axes>"
      ]
     },
     "metadata": {
      "needs_background": "light"
     },
     "output_type": "display_data"
    }
   ],
   "source": [
    "sns.displot(lengths)"
   ]
  },
  {
   "cell_type": "code",
   "execution_count": 13,
   "id": "published-present",
   "metadata": {},
   "outputs": [
    {
     "name": "stderr",
     "output_type": "stream",
     "text": [
      "/home/antonbabenko/.local/lib/python3.8/site-packages/seaborn/distributions.py:2557: FutureWarning: `distplot` is a deprecated function and will be removed in a future version. Please adapt your code to use either `displot` (a figure-level function with similar flexibility) or `histplot` (an axes-level function for histograms).\n",
      "  warnings.warn(msg, FutureWarning)\n"
     ]
    },
    {
     "data": {
      "text/plain": [
       "Text(0, 0.5, '# of Text')"
      ]
     },
     "execution_count": 13,
     "metadata": {},
     "output_type": "execute_result"
    },
    {
     "data": {
      "image/png": "[encoded data removed]",
      "text/plain": [
       "<Figure size 432x288 with 1 Axes>"
      ]
     },
     "metadata": {
      "needs_background": "light"
     },
     "output_type": "display_data"
    }
   ],
   "source": [
    "# Truncate any comment lengths greater than 512.\n",
    "lengths = [min(l, MAX_SEQ_LEN) for l in lengths]\n",
    "\n",
    "# Plot the distribution of comment lengths.\n",
    "sns.distplot(lengths, kde=False, rug=False)\n",
    "\n",
    "# Alternatively, you might try using a log scale on the x-axis, but this is \n",
    "# tricky. See here for one approach:\n",
    "# https://stackoverflow.com/questions/47850202/plotting-a-histogram-on-a-log-scale-with-matplotlib?rq=1\n",
    "#plt.xscale('log')\n",
    "\n",
    "plt.title('Text Lengths')\n",
    "plt.xlabel('Text Length')\n",
    "plt.ylabel('# of Text')"
   ]
  },
  {
   "cell_type": "code",
   "execution_count": 14,
   "id": "charitable-actor",
   "metadata": {},
   "outputs": [
    {
     "name": "stdout",
     "output_type": "stream",
     "text": [
      "6,598 of 20,293 sentences (32.5%) in the training set are longer than 512 tokens.\n"
     ]
    }
   ],
   "source": [
    "# Count the number of sentences that had to be truncated to 512 tokens.\n",
    "num_truncated = lengths.count(MAX_SEQ_LEN)\n",
    "\n",
    "# Compare this to the total number of training sentences.\n",
    "num_sentences = len(lengths)\n",
    "prcnt = float(num_truncated) / float(num_sentences)\n",
    "\n",
    "print('{:,} of {:,} sentences ({:.1%}) in the training set are longer than 512 tokens.'.format(num_truncated, num_sentences, prcnt))"
   ]
  },
  {
   "cell_type": "code",
   "execution_count": 29,
   "id": "proved-vegetable",
   "metadata": {},
   "outputs": [],
   "source": [
    "train_dataset = TextClassificationDataset(\n",
    "    texts=splits[\"train\"][\"text\"].values.tolist(),\n",
    "    tokenizer=tokenizer,\n",
    "    labels=splits[\"train\"][\"source\"].values.tolist(),\n",
    "    max_seq_length=MAX_SEQ_LEN\n",
    ")\n",
    "\n",
    "valid_dataset = TextClassificationDataset(\n",
    "    texts=splits[\"val\"][\"text\"].values.tolist(),\n",
    "    tokenizer=tokenizer,\n",
    "    labels=splits[\"val\"][\"source\"].values.tolist(),\n",
    "    max_seq_length=MAX_SEQ_LEN\n",
    ")\n",
    "\n",
    "test_dataset = TextClassificationDataset(\n",
    "    texts=test_df[\"text\"].values.tolist(),\n",
    "    tokenizer=tokenizer,\n",
    "    max_seq_length=MAX_SEQ_LEN\n",
    ")"
   ]
  },
  {
   "cell_type": "code",
   "execution_count": 16,
   "id": "future-poland",
   "metadata": {},
   "outputs": [],
   "source": [
    "# train_dataset = Subset(train_dataset, list(range(16)))\n",
    "# valid_dataset = Subset(valid_dataset, list(range(16)))\n",
    "# test_dataset = Subset(test_dataset, 20)"
   ]
  },
  {
   "cell_type": "code",
   "execution_count": 30,
   "id": "protecting-apparel",
   "metadata": {},
   "outputs": [],
   "source": [
    "train_data_loader = DataLoader(\n",
    "    dataset=train_dataset,\n",
    "    batch_size=BATCH_SIZE,\n",
    "    shuffle=True,\n",
    ")\n",
    "\n",
    "val_data_loader = DataLoader(\n",
    "    dataset=valid_dataset,\n",
    "    batch_size=BATCH_SIZE,\n",
    "    shuffle=False,\n",
    ")\n",
    "\n",
    "test_data_loader = DataLoader(\n",
    "    dataset=test_dataset,\n",
    "    batch_size=BATCH_SIZE,\n",
    "    shuffle=False,\n",
    ")"
   ]
  },
  {
   "cell_type": "code",
   "execution_count": 31,
   "id": "encouraging-extraction",
   "metadata": {},
   "outputs": [],
   "source": [
    "dataloaders = {\n",
    "    \"train\": train_data_loader,\n",
    "    \"val\": val_data_loader,\n",
    "    \"test\": test_data_loader\n",
    "}"
   ]
  },
  {
   "cell_type": "code",
   "execution_count": 19,
   "id": "secondary-authorization",
   "metadata": {},
   "outputs": [
    {
     "data": {
      "text/plain": [
       "dict_keys(['input_ids', 'attention_mask', 'targets'])"
      ]
     },
     "execution_count": 19,
     "metadata": {},
     "output_type": "execute_result"
    }
   ],
   "source": [
    "mini_batch_data = next(iter(val_data_loader))\n",
    "mini_batch_data.keys()"
   ]
  },
  {
   "cell_type": "code",
   "execution_count": 20,
   "id": "hazardous-pattern",
   "metadata": {},
   "outputs": [
    {
     "name": "stdout",
     "output_type": "stream",
     "text": [
      "torch.Size([8, 512])\n",
      "torch.Size([8, 512])\n",
      "torch.Size([8])\n"
     ]
    }
   ],
   "source": [
    "print(mini_batch_data['input_ids'].shape)\n",
    "print(mini_batch_data['attention_mask'].shape)\n",
    "print(mini_batch_data['targets'].shape)"
   ]
  },
  {
   "cell_type": "markdown",
   "id": "flush-incentive",
   "metadata": {},
   "source": [
    "### Model Setup"
   ]
  },
  {
   "cell_type": "code",
   "execution_count": 21,
   "id": "electronic-appliance",
   "metadata": {},
   "outputs": [],
   "source": [
    "model = TextClassifier(\n",
    "    n_classes=splits[\"train\"][\"source\"].unique().shape[0],\n",
    "    pretrained_model_name=MODEL_NAME,\n",
    "    dropout=0.4\n",
    ").to(device)"
   ]
  },
  {
   "cell_type": "markdown",
   "id": "acute-brake",
   "metadata": {},
   "source": [
    "### Metrics"
   ]
  },
  {
   "cell_type": "code",
   "execution_count": 22,
   "id": "orange-success",
   "metadata": {},
   "outputs": [],
   "source": [
    "metrics = {\n",
    "    \"f1_macro\": f1_macro\n",
    "}"
   ]
  },
  {
   "cell_type": "markdown",
   "id": "recognized-columbus",
   "metadata": {},
   "source": [
    "### Tensorboard setup"
   ]
  },
  {
   "cell_type": "code",
   "execution_count": 23,
   "id": "baking-chile",
   "metadata": {},
   "outputs": [],
   "source": [
    "model_name = f\"youscan-ukr-roberta-base-{int(datetime.datetime.now().timestamp())}\"\n",
    "writer = get_tensorboard_writer(logs_dir, model_name) "
   ]
  },
  {
   "cell_type": "code",
   "execution_count": 24,
   "id": "connected-psychiatry",
   "metadata": {},
   "outputs": [],
   "source": [
    "optimizer = AdamW([\n",
    "    {\"params\": model.bert.parameters(), \"lr\": 2e-6},\n",
    "    {\"params\": model.out.parameters(), \"lr\": 2e-3}], \n",
    "    correct_bias=False\n",
    ")\n",
    "total_steps = len(train_data_loader) * EPOCHS\n",
    "scheduler = get_linear_schedule_with_warmup(\n",
    "    optimizer, num_warmup_steps=0, num_training_steps=total_steps\n",
    ")\n",
    "criterion = nn.CrossEntropyLoss().to(device)"
   ]
  },
  {
   "cell_type": "code",
   "execution_count": 25,
   "id": "lucky-diary",
   "metadata": {},
   "outputs": [
    {
     "name": "stderr",
     "output_type": "stream",
     "text": [
      "Epoch: 1/20, train phase: 100%|██████████| 2537/2537 [19:59<00:00,  2.12it/s]\n",
      "Epoch: 1/20, validation phase: 100%|██████████| 635/635 [01:51<00:00,  5.70it/s]\n"
     ]
    },
    {
     "name": "stdout",
     "output_type": "stream",
     "text": [
      "{'f1_macro': 0.6438724364123349}\n",
      "Epoch: 1/20, time: 1310.8207890987396 train loss: 0.9258427331552225, val loss: 0.5969075140538694\n"
     ]
    },
    {
     "name": "stderr",
     "output_type": "stream",
     "text": [
      "Epoch: 2/20, train phase:   0%|          | 0/2537 [00:00<?, ?it/s]"
     ]
    },
    {
     "name": "stdout",
     "output_type": "stream",
     "text": [
      "Checkpoint was saved\n"
     ]
    },
    {
     "name": "stderr",
     "output_type": "stream",
     "text": [
      "Epoch: 2/20, train phase: 100%|██████████| 2537/2537 [19:51<00:00,  2.13it/s]\n",
      "Epoch: 2/20, validation phase: 100%|██████████| 635/635 [01:45<00:00,  6.03it/s]\n"
     ]
    },
    {
     "name": "stdout",
     "output_type": "stream",
     "text": [
      "{'f1_macro': 0.7003401929943776}\n",
      "Epoch: 2/20, time: 1297.099585056305 train loss: 0.4941605611937247, val loss: 0.5777617465720623\n"
     ]
    },
    {
     "name": "stderr",
     "output_type": "stream",
     "text": [
      "Epoch: 3/20, train phase:   0%|          | 0/2537 [00:00<?, ?it/s]"
     ]
    },
    {
     "name": "stdout",
     "output_type": "stream",
     "text": [
      "Checkpoint was saved\n"
     ]
    },
    {
     "name": "stderr",
     "output_type": "stream",
     "text": [
      "Epoch: 3/20, train phase: 100%|██████████| 2537/2537 [19:40<00:00,  2.15it/s]\n",
      "Epoch: 3/20, validation phase: 100%|██████████| 635/635 [01:47<00:00,  5.91it/s]\n"
     ]
    },
    {
     "name": "stdout",
     "output_type": "stream",
     "text": [
      "{'f1_macro': 0.7233214053858645}\n",
      "Epoch: 3/20, time: 1287.5398833751678 train loss: 0.3788378163254003, val loss: 0.6993032310744391\n"
     ]
    },
    {
     "name": "stderr",
     "output_type": "stream",
     "text": [
      "Epoch: 4/20, train phase:   0%|          | 0/2537 [00:00<?, ?it/s]"
     ]
    },
    {
     "name": "stdout",
     "output_type": "stream",
     "text": [
      "Checkpoint was saved\n"
     ]
    },
    {
     "name": "stderr",
     "output_type": "stream",
     "text": [
      "Epoch: 4/20, train phase: 100%|██████████| 2537/2537 [19:48<00:00,  2.13it/s]\n",
      "Epoch: 4/20, validation phase: 100%|██████████| 635/635 [01:46<00:00,  5.94it/s]\n"
     ]
    },
    {
     "name": "stdout",
     "output_type": "stream",
     "text": [
      "{'f1_macro': 0.7461797581364049}\n",
      "Epoch: 4/20, time: 1295.665225982666 train loss: 0.3005261421200466, val loss: 0.6926958527919023\n"
     ]
    },
    {
     "name": "stderr",
     "output_type": "stream",
     "text": [
      "Epoch: 5/20, train phase:   0%|          | 0/2537 [00:00<?, ?it/s]"
     ]
    },
    {
     "name": "stdout",
     "output_type": "stream",
     "text": [
      "Checkpoint was saved\n"
     ]
    },
    {
     "name": "stderr",
     "output_type": "stream",
     "text": [
      "Epoch: 5/20, train phase: 100%|██████████| 2537/2537 [19:43<00:00,  2.14it/s]\n",
      "Epoch: 5/20, validation phase: 100%|██████████| 635/635 [01:42<00:00,  6.17it/s]\n",
      "Epoch: 6/20, train phase:   0%|          | 0/2537 [00:00<?, ?it/s]"
     ]
    },
    {
     "name": "stdout",
     "output_type": "stream",
     "text": [
      "{'f1_macro': 0.7373652964076576}\n",
      "Epoch: 5/20, time: 1286.1048662662506 train loss: 0.21202120819262854, val loss: 0.9933860879231174\n"
     ]
    },
    {
     "name": "stderr",
     "output_type": "stream",
     "text": [
      "Epoch: 6/20, train phase: 100%|██████████| 2537/2537 [18:48<00:00,  2.25it/s]\n",
      "Epoch: 6/20, validation phase: 100%|██████████| 635/635 [01:41<00:00,  6.25it/s]\n",
      "Epoch: 7/20, train phase:   0%|          | 0/2537 [00:00<?, ?it/s]"
     ]
    },
    {
     "name": "stdout",
     "output_type": "stream",
     "text": [
      "{'f1_macro': 0.7389429203059013}\n",
      "Epoch: 6/20, time: 1229.806327342987 train loss: 0.15505478795218225, val loss: 1.215671914672513\n"
     ]
    },
    {
     "name": "stderr",
     "output_type": "stream",
     "text": [
      "Epoch: 7/20, train phase: 100%|██████████| 2537/2537 [19:03<00:00,  2.22it/s]\n",
      "Epoch: 7/20, validation phase: 100%|██████████| 635/635 [01:41<00:00,  6.27it/s]\n"
     ]
    },
    {
     "name": "stdout",
     "output_type": "stream",
     "text": [
      "{'f1_macro': 0.752889650969872}\n",
      "Epoch: 7/20, time: 1244.6530129909515 train loss: 0.11503808445448968, val loss: 1.248166151488399\n"
     ]
    },
    {
     "name": "stderr",
     "output_type": "stream",
     "text": [
      "Epoch: 8/20, train phase:   0%|          | 0/2537 [00:00<?, ?it/s]"
     ]
    },
    {
     "name": "stdout",
     "output_type": "stream",
     "text": [
      "Checkpoint was saved\n"
     ]
    },
    {
     "name": "stderr",
     "output_type": "stream",
     "text": [
      "Epoch: 8/20, train phase: 100%|██████████| 2537/2537 [18:31<00:00,  2.28it/s]\n",
      "Epoch: 8/20, validation phase: 100%|██████████| 635/635 [01:38<00:00,  6.42it/s]\n"
     ]
    },
    {
     "name": "stdout",
     "output_type": "stream",
     "text": [
      "{'f1_macro': 0.7578911867187687}\n",
      "Epoch: 8/20, time: 1210.4633340835571 train loss: 0.09070575667211507, val loss: 1.4680640592091059\n"
     ]
    },
    {
     "name": "stderr",
     "output_type": "stream",
     "text": [
      "Epoch: 9/20, train phase:   0%|          | 0/2537 [00:00<?, ?it/s]"
     ]
    },
    {
     "name": "stdout",
     "output_type": "stream",
     "text": [
      "Checkpoint was saved\n"
     ]
    },
    {
     "name": "stderr",
     "output_type": "stream",
     "text": [
      "Epoch: 9/20, train phase: 100%|██████████| 2537/2537 [18:29<00:00,  2.29it/s]\n",
      "Epoch: 9/20, validation phase: 100%|██████████| 635/635 [01:38<00:00,  6.42it/s]\n"
     ]
    },
    {
     "name": "stdout",
     "output_type": "stream",
     "text": [
      "{'f1_macro': 0.7625449198493499}\n",
      "Epoch: 9/20, time: 1208.321581363678 train loss: 0.06528709716944033, val loss: 1.7307849342190162\n"
     ]
    },
    {
     "name": "stderr",
     "output_type": "stream",
     "text": [
      "Epoch: 10/20, train phase:   0%|          | 0/2537 [00:00<?, ?it/s]"
     ]
    },
    {
     "name": "stdout",
     "output_type": "stream",
     "text": [
      "Checkpoint was saved\n"
     ]
    },
    {
     "name": "stderr",
     "output_type": "stream",
     "text": [
      "Epoch: 10/20, train phase: 100%|██████████| 2537/2537 [18:28<00:00,  2.29it/s]\n",
      "Epoch: 10/20, validation phase: 100%|██████████| 635/635 [01:38<00:00,  6.42it/s]\n"
     ]
    },
    {
     "name": "stdout",
     "output_type": "stream",
     "text": [
      "{'f1_macro': 0.7640657351666464}\n",
      "Epoch: 10/20, time: 1207.4823405742645 train loss: 0.044119554925533225, val loss: 1.8165443752447705\n"
     ]
    },
    {
     "name": "stderr",
     "output_type": "stream",
     "text": [
      "Epoch: 11/20, train phase:   0%|          | 0/2537 [00:00<?, ?it/s]"
     ]
    },
    {
     "name": "stdout",
     "output_type": "stream",
     "text": [
      "Checkpoint was saved\n"
     ]
    },
    {
     "name": "stderr",
     "output_type": "stream",
     "text": [
      "Epoch: 11/20, train phase: 100%|██████████| 2537/2537 [18:28<00:00,  2.29it/s]\n",
      "Epoch: 11/20, validation phase: 100%|██████████| 635/635 [01:38<00:00,  6.42it/s]\n",
      "Epoch: 12/20, train phase:   0%|          | 0/2537 [00:00<?, ?it/s]"
     ]
    },
    {
     "name": "stdout",
     "output_type": "stream",
     "text": [
      "{'f1_macro': 0.7627807134560094}\n",
      "Epoch: 11/20, time: 1207.29736661911 train loss: 0.03145591487259624, val loss: 2.072068296798533\n"
     ]
    },
    {
     "name": "stderr",
     "output_type": "stream",
     "text": [
      "Epoch: 12/20, train phase: 100%|██████████| 2537/2537 [18:28<00:00,  2.29it/s]\n",
      "Epoch: 12/20, validation phase: 100%|██████████| 635/635 [01:39<00:00,  6.41it/s]\n"
     ]
    },
    {
     "name": "stdout",
     "output_type": "stream",
     "text": [
      "{'f1_macro': 0.767065792736725}\n",
      "Epoch: 12/20, time: 1207.0579311847687 train loss: 0.023989562134906446, val loss: 1.9150661114072294\n"
     ]
    },
    {
     "name": "stderr",
     "output_type": "stream",
     "text": [
      "Epoch: 13/20, train phase:   0%|          | 0/2537 [00:00<?, ?it/s]"
     ]
    },
    {
     "name": "stdout",
     "output_type": "stream",
     "text": [
      "Checkpoint was saved\n"
     ]
    },
    {
     "name": "stderr",
     "output_type": "stream",
     "text": [
      "Epoch: 13/20, train phase: 100%|██████████| 2537/2537 [18:27<00:00,  2.29it/s]\n",
      "Epoch: 13/20, validation phase: 100%|██████████| 635/635 [01:38<00:00,  6.43it/s]\n"
     ]
    },
    {
     "name": "stdout",
     "output_type": "stream",
     "text": [
      "{'f1_macro': 0.7723408412787681}\n",
      "Epoch: 13/20, time: 1206.538568496704 train loss: 0.0165361936141816, val loss: 1.9410311726086584\n"
     ]
    },
    {
     "name": "stderr",
     "output_type": "stream",
     "text": [
      "Epoch: 14/20, train phase:   0%|          | 0/2537 [00:00<?, ?it/s]"
     ]
    },
    {
     "name": "stdout",
     "output_type": "stream",
     "text": [
      "Checkpoint was saved\n"
     ]
    },
    {
     "name": "stderr",
     "output_type": "stream",
     "text": [
      "Epoch: 14/20, train phase: 100%|██████████| 2537/2537 [18:27<00:00,  2.29it/s]\n",
      "Epoch: 14/20, validation phase: 100%|██████████| 635/635 [01:38<00:00,  6.42it/s]\n"
     ]
    },
    {
     "name": "stdout",
     "output_type": "stream",
     "text": [
      "{'f1_macro': 0.7837475070814934}\n",
      "Epoch: 14/20, time: 1206.1738398075104 train loss: 0.016198630527740062, val loss: 2.0721805791000616\n"
     ]
    },
    {
     "name": "stderr",
     "output_type": "stream",
     "text": [
      "Epoch: 15/20, train phase:   0%|          | 0/2537 [00:00<?, ?it/s]"
     ]
    },
    {
     "name": "stdout",
     "output_type": "stream",
     "text": [
      "Checkpoint was saved\n"
     ]
    },
    {
     "name": "stderr",
     "output_type": "stream",
     "text": [
      "Epoch: 15/20, train phase: 100%|██████████| 2537/2537 [18:26<00:00,  2.29it/s]\n",
      "Epoch: 15/20, validation phase: 100%|██████████| 635/635 [01:38<00:00,  6.43it/s]\n",
      "Epoch: 16/20, train phase:   0%|          | 0/2537 [00:00<?, ?it/s]"
     ]
    },
    {
     "name": "stdout",
     "output_type": "stream",
     "text": [
      "{'f1_macro': 0.7664355526976179}\n",
      "Epoch: 15/20, time: 1205.7289850711823 train loss: 0.012846515468251172, val loss: 2.166614218119415\n"
     ]
    },
    {
     "name": "stderr",
     "output_type": "stream",
     "text": [
      "Epoch: 16/20, train phase: 100%|██████████| 2537/2537 [18:27<00:00,  2.29it/s]\n",
      "Epoch: 16/20, validation phase: 100%|██████████| 635/635 [01:38<00:00,  6.43it/s]\n",
      "Epoch: 17/20, train phase:   0%|          | 0/2537 [00:00<?, ?it/s]"
     ]
    },
    {
     "name": "stdout",
     "output_type": "stream",
     "text": [
      "{'f1_macro': 0.7713694295487367}\n",
      "Epoch: 16/20, time: 1206.376734495163 train loss: 0.004958903042704974, val loss: 2.3702088570473907\n"
     ]
    },
    {
     "name": "stderr",
     "output_type": "stream",
     "text": [
      "Epoch: 17/20, train phase: 100%|██████████| 2537/2537 [18:27<00:00,  2.29it/s]\n",
      "Epoch: 17/20, validation phase: 100%|██████████| 635/635 [01:38<00:00,  6.43it/s]\n",
      "Epoch: 18/20, train phase:   0%|          | 0/2537 [00:00<?, ?it/s]"
     ]
    },
    {
     "name": "stdout",
     "output_type": "stream",
     "text": [
      "{'f1_macro': 0.7768639472915297}\n",
      "Epoch: 17/20, time: 1205.810186624527 train loss: 0.004663723923502882, val loss: 2.228987695099028\n"
     ]
    },
    {
     "name": "stderr",
     "output_type": "stream",
     "text": [
      "Epoch: 18/20, train phase: 100%|██████████| 2537/2537 [18:27<00:00,  2.29it/s]\n",
      "Epoch: 18/20, validation phase: 100%|██████████| 635/635 [01:38<00:00,  6.42it/s]\n",
      "Epoch: 19/20, train phase:   0%|          | 0/2537 [00:00<?, ?it/s]"
     ]
    },
    {
     "name": "stdout",
     "output_type": "stream",
     "text": [
      "{'f1_macro': 0.7647965563979604}\n",
      "Epoch: 18/20, time: 1205.9405505657196 train loss: 0.004328340888576757, val loss: 2.3587882998629164\n"
     ]
    },
    {
     "name": "stderr",
     "output_type": "stream",
     "text": [
      "Epoch: 19/20, train phase: 100%|██████████| 2537/2537 [18:26<00:00,  2.29it/s]\n",
      "Epoch: 19/20, validation phase: 100%|██████████| 635/635 [01:38<00:00,  6.43it/s]\n",
      "Epoch: 20/20, train phase:   0%|          | 0/2537 [00:00<?, ?it/s]"
     ]
    },
    {
     "name": "stdout",
     "output_type": "stream",
     "text": [
      "{'f1_macro': 0.7698360685473945}\n",
      "Epoch: 19/20, time: 1205.5299739837646 train loss: 0.004243779473278686, val loss: 2.247096513705093\n"
     ]
    },
    {
     "name": "stderr",
     "output_type": "stream",
     "text": [
      "Epoch: 20/20, train phase: 100%|██████████| 2537/2537 [18:26<00:00,  2.29it/s]\n",
      "Epoch: 20/20, validation phase: 100%|██████████| 635/635 [01:38<00:00,  6.42it/s]"
     ]
    },
    {
     "name": "stdout",
     "output_type": "stream",
     "text": [
      "{'f1_macro': 0.7696235349397875}\n",
      "Epoch: 20/20, time: 1205.7623386383057 train loss: 0.0027838716342116357, val loss: 2.3020381218193147\n"
     ]
    },
    {
     "name": "stderr",
     "output_type": "stream",
     "text": [
      "\n"
     ]
    }
   ],
   "source": [
    "fit(\n",
    "    model,\n",
    "    criterion,\n",
    "    optimizer,\n",
    "    dataloaders,\n",
    "    device,\n",
    "    scheduler=scheduler,\n",
    "    metrics=metrics,\n",
    "    epochs=EPOCHS,\n",
    "    model_name=model_name,\n",
    "    model_folder=states_dir,\n",
    "    writer=writer\n",
    ")"
   ]
  },
  {
   "cell_type": "markdown",
   "id": "excited-estimate",
   "metadata": {},
   "source": [
    "## Evaluation"
   ]
  },
  {
   "cell_type": "code",
   "execution_count": 44,
   "id": "small-video",
   "metadata": {},
   "outputs": [],
   "source": [
    "checkpoint_path = states_dir / \"epoch-14-youscan-ukr-roberta-base-1616447037-checkpoint.pt\""
   ]
  },
  {
   "cell_type": "code",
   "execution_count": 45,
   "id": "fundamental-pierre",
   "metadata": {},
   "outputs": [],
   "source": [
    "model = TextClassifier(\n",
    "    n_classes=splits[\"train\"][\"source\"].unique().shape[0],\n",
    "    pretrained_model_name=MODEL_NAME,\n",
    "    dropout=0.4\n",
    ")"
   ]
  },
  {
   "cell_type": "code",
   "execution_count": 47,
   "id": "narrow-standing",
   "metadata": {},
   "outputs": [
    {
     "name": "stdout",
     "output_type": "stream",
     "text": [
      "Models have been loaded\n"
     ]
    }
   ],
   "source": [
    "checkpoint = torch.load(checkpoint_path, map_location=torch.device(\"cpu\"))\n",
    "model.load_state_dict(checkpoint[\"model_state_dict\"])\n",
    "print(\"Models have been loaded\")\n",
    "\n",
    "model = model.to(device)"
   ]
  },
  {
   "cell_type": "code",
   "execution_count": 48,
   "id": "perfect-modern",
   "metadata": {},
   "outputs": [
    {
     "name": "stderr",
     "output_type": "stream",
     "text": [
      "eval phase: 100%|██████████| 2023/2023 [04:50<00:00,  6.97it/s]\n"
     ]
    }
   ],
   "source": [
    "predictions, _ = eval_nlp(model, dataloaders[\"test\"], device)"
   ]
  },
  {
   "cell_type": "code",
   "execution_count": 49,
   "id": "velvet-architect",
   "metadata": {},
   "outputs": [],
   "source": [
    "test_df[\"Predicted\"] = predictions"
   ]
  },
  {
   "cell_type": "code",
   "execution_count": 50,
   "id": "widespread-delicious",
   "metadata": {},
   "outputs": [],
   "source": [
    "submission_df = test_df[[\"Id\", \"Predicted\"]]"
   ]
  },
  {
   "cell_type": "code",
   "execution_count": 51,
   "id": "cheap-disabled",
   "metadata": {},
   "outputs": [],
   "source": [
    "submission_df.to_csv(submissions / f\"youscan-roberta-{int(datetime.datetime.now().timestamp())}.csv\", index=False)"
   ]
  },
  {
   "cell_type": "code",
   "execution_count": null,
   "id": "gentle-wilson",
   "metadata": {},
   "outputs": [],
   "source": []
  }
 ],
 "metadata": {
  "kernelspec": {
   "display_name": "Python 3",
   "language": "python",
   "name": "python3"
  },
  "language_info": {
   "codemirror_mode": {
    "name": "ipython",
    "version": 3
   },
   "file_extension": ".py",
   "mimetype": "text/x-python",
   "name": "python",
   "nbconvert_exporter": "python",
   "pygments_lexer": "ipython3",
   "version": "3.8.5"
  }
 },
 "nbformat": 4,
 "nbformat_minor": 5
}
