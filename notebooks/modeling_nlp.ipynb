{
 "cells": [
  {
   "cell_type": "code",
   "execution_count": 1,
   "id": "informative-mouth",
   "metadata": {},
   "outputs": [
    {
     "name": "stdout",
     "output_type": "stream",
     "text": [
      "/home/antonbabenko/Projects/newsclass01\n"
     ]
    }
   ],
   "source": [
    "%cd .."
   ]
  },
  {
   "cell_type": "code",
   "execution_count": 2,
   "id": "familiar-startup",
   "metadata": {},
   "outputs": [],
   "source": [
    "%load_ext autoreload\n",
    "%autoreload 2\n",
    "%aimport src.model\n",
    "%aimport src.data\n",
    "%aimport src.train\n",
    "%aimport src.eval\n",
    "%aimport src.utils\n",
    "%aimport src.metrics"
   ]
  },
  {
   "cell_type": "code",
   "execution_count": 3,
   "id": "conditional-awareness",
   "metadata": {},
   "outputs": [],
   "source": [
    "import datetime\n",
    "from pathlib import Path\n",
    "\n",
    "import numpy as np\n",
    "import pandas as pd\n",
    "import matplotlib.pyplot as plt\n",
    "import seaborn as sns\n",
    "\n",
    "import torch\n",
    "import torch.nn as nn\n",
    "from torch.utils.data import DataLoader, Subset\n",
    "from transformers import AutoTokenizer, AdamW, get_linear_schedule_with_warmup\n",
    "\n",
    "from src.utils import set_seed, load_splits, get_tensorboard_writer\n",
    "from src.data import TextClassificationDataset\n",
    "from src.model import TextClassifier\n",
    "from src.train import fit\n",
    "from src.eval import eval_nlp\n",
    "from src.metrics import f1_macro"
   ]
  },
  {
   "cell_type": "code",
   "execution_count": 4,
   "id": "graduate-disclaimer",
   "metadata": {},
   "outputs": [],
   "source": [
    "SEED = 42\n",
    "MAX_SEQ_LEN = 512\n",
    "BATCH_SIZE = 64\n",
    "# MODEL_NAME = \"youscan/ukr-roberta-base\"\n",
    "MODEL_NAME = \"xlm-roberta-base\"\n",
    "EPOCHS = 8"
   ]
  },
  {
   "cell_type": "code",
   "execution_count": 5,
   "id": "steady-stationery",
   "metadata": {},
   "outputs": [],
   "source": [
    "set_seed(SEED)"
   ]
  },
  {
   "cell_type": "code",
   "execution_count": 6,
   "id": "amino-porter",
   "metadata": {},
   "outputs": [],
   "source": [
    "device = torch.device(\"cuda\" if torch.cuda.is_available() else \"cpu\")"
   ]
  },
  {
   "cell_type": "code",
   "execution_count": 7,
   "id": "racial-congo",
   "metadata": {},
   "outputs": [],
   "source": [
    "logs_dir = Path(\"logs\") \n",
    "states_dir = Path(\"states\") / \"nlp\" \n",
    "states_dir = Path(\"/media/antonbabenko/hard/news/states\") / \"nlp\"\n",
    "data_dir = Path(\"data\")\n",
    "folds = Path(\"folds\") / \"nlp\"\n",
    "submissions = Path(\"submissions\") / \"nlp\""
   ]
  },
  {
   "cell_type": "code",
   "execution_count": 8,
   "id": "marine-spectrum",
   "metadata": {},
   "outputs": [],
   "source": [
    "test_df_path = data_dir / \"test_without_target.csv\""
   ]
  },
  {
   "cell_type": "code",
   "execution_count": 9,
   "id": "handled-programmer",
   "metadata": {},
   "outputs": [],
   "source": [
    "test_df = pd.read_csv(test_df_path)"
   ]
  },
  {
   "cell_type": "code",
   "execution_count": 10,
   "id": "unsigned-marathon",
   "metadata": {},
   "outputs": [],
   "source": [
    "splits = load_splits(folds, val_folds=[2], train_folds=[0, 1, 3, 4]) "
   ]
  },
  {
   "cell_type": "code",
   "execution_count": 11,
   "id": "driving-commerce",
   "metadata": {},
   "outputs": [
    {
     "name": "stdout",
     "output_type": "stream",
     "text": [
      "Loading tokenizer...\n"
     ]
    }
   ],
   "source": [
    "print('Loading tokenizer...')\n",
    "tokenizer = AutoTokenizer.from_pretrained(MODEL_NAME, use_fast=True)"
   ]
  },
  {
   "cell_type": "code",
   "execution_count": 12,
   "id": "regional-baking",
   "metadata": {},
   "outputs": [
    {
     "data": {
      "text/plain": [
       "'</s>'"
      ]
     },
     "execution_count": 12,
     "metadata": {},
     "output_type": "execute_result"
    }
   ],
   "source": [
    "tokenizer.sep_token"
   ]
  },
  {
   "cell_type": "code",
   "execution_count": 13,
   "id": "fluid-active",
   "metadata": {},
   "outputs": [
    {
     "data": {
      "text/plain": [
       "True"
      ]
     },
     "execution_count": 13,
     "metadata": {},
     "output_type": "execute_result"
    }
   ],
   "source": [
    "splits[\"test\"].empty"
   ]
  },
  {
   "cell_type": "code",
   "execution_count": 14,
   "id": "boolean-synthesis",
   "metadata": {},
   "outputs": [
    {
     "name": "stderr",
     "output_type": "stream",
     "text": [
      "Token indices sequence length is longer than the specified maximum sequence length for this model (867 > 512). Running this sequence through the model will result in indexing errors\n"
     ]
    },
    {
     "name": "stdout",
     "output_type": "stream",
     "text": [
      "Tokenizing text...\n",
      "DONE.\n"
     ]
    }
   ],
   "source": [
    "lengths = []\n",
    "tokens = []\n",
    "\n",
    "print('Tokenizing text...')\n",
    "\n",
    "for sen in splits[\"train\"][\"text\"]:\n",
    "    encoded_sent = tokenizer.encode(\n",
    "        sen,                      # Sentence to encode.\n",
    "        add_special_tokens = True, # Add '[CLS]' and '[SEP]'\n",
    "#         max_length = 512,          # Truncate all sentences.                        \n",
    "#         return_tensors = 'pt',     # Return pytorch tensors.\n",
    "   )\n",
    "\n",
    "    lengths.append(len(encoded_sent))\n",
    "    tokens.append(encoded_sent)\n",
    "\n",
    "print('DONE.')"
   ]
  },
  {
   "cell_type": "code",
   "execution_count": 15,
   "id": "caring-sword",
   "metadata": {},
   "outputs": [
    {
     "name": "stdout",
     "output_type": "stream",
     "text": [
      "   Min length: 15 tokens\n",
      "   Max length: 14,636 tokens\n",
      "Median length: 410.0 tokens\n"
     ]
    }
   ],
   "source": [
    "print('   Min length: {:,} tokens'.format(min(lengths)))\n",
    "print('   Max length: {:,} tokens'.format(max(lengths)))\n",
    "print('Median length: {:,} tokens'.format(np.median(lengths)))"
   ]
  },
  {
   "cell_type": "code",
   "execution_count": 16,
   "id": "clinical-encyclopedia",
   "metadata": {},
   "outputs": [
    {
     "data": {
      "text/plain": [
       "<seaborn.axisgrid.FacetGrid at 0x7f886f42b280>"
      ]
     },
     "execution_count": 16,
     "metadata": {},
     "output_type": "execute_result"
    },
    {
     "data": {
      "image/png": "[encoded data removed]",
      "text/plain": [
       "<Figure size 360x360 with 1 Axes>"
      ]
     },
     "metadata": {
      "needs_background": "light"
     },
     "output_type": "display_data"
    }
   ],
   "source": [
    "sns.displot(lengths)"
   ]
  },
  {
   "cell_type": "code",
   "execution_count": 17,
   "id": "intellectual-personal",
   "metadata": {},
   "outputs": [
    {
     "data": {
      "text/plain": [
       "Text(-2.450000000000003, 0.5, '# of Text')"
      ]
     },
     "execution_count": 17,
     "metadata": {},
     "output_type": "execute_result"
    },
    {
     "data": {
      "image/png": "[encoded data removed]",
      "text/plain": [
       "<Figure size 360x360 with 1 Axes>"
      ]
     },
     "metadata": {
      "needs_background": "light"
     },
     "output_type": "display_data"
    }
   ],
   "source": [
    "# Truncate any comment lengths greater than 512.\n",
    "lengths = [min(l, MAX_SEQ_LEN) for l in lengths]\n",
    "\n",
    "# Plot the distribution of comment lengths.\n",
    "sns.displot(lengths, kde=False, rug=False)\n",
    "\n",
    "# Alternatively, you might try using a log scale on the x-axis, but this is \n",
    "# tricky. See here for one approach:\n",
    "# https://stackoverflow.com/questions/47850202/plotting-a-histogram-on-a-log-scale-with-matplotlib?rq=1\n",
    "#plt.xscale('log')\n",
    "\n",
    "plt.title('Text Lengths')\n",
    "plt.xlabel('Text Length')\n",
    "plt.ylabel('# of Text')"
   ]
  },
  {
   "cell_type": "code",
   "execution_count": 18,
   "id": "amended-solid",
   "metadata": {},
   "outputs": [
    {
     "name": "stdout",
     "output_type": "stream",
     "text": [
      "7,868 of 20,293 sentences (38.8%) in the training set are longer than 512 tokens.\n"
     ]
    }
   ],
   "source": [
    "# Count the number of sentences that had to be truncated to 512 tokens.\n",
    "num_truncated = lengths.count(MAX_SEQ_LEN)\n",
    "\n",
    "# Compare this to the total number of training sentences.\n",
    "num_sentences = len(lengths)\n",
    "prcnt = float(num_truncated) / float(num_sentences)\n",
    "\n",
    "print('{:,} of {:,} sentences ({:.1%}) in the training set are longer than {} tokens.'.format(num_truncated, num_sentences, prcnt, MAX_SEQ_LEN))"
   ]
  },
  {
   "cell_type": "code",
   "execution_count": null,
   "id": "featured-message",
   "metadata": {},
   "outputs": [],
   "source": [
    "train_dataset = TextClassificationDataset(\n",
    "    df=splits[\"train\"],\n",
    "    tokenizer=tokenizer,\n",
    "    mode=\"train\",\n",
    "    max_seq_length=MAX_SEQ_LEN\n",
    ")\n",
    "\n",
    "valid_dataset = TextClassificationDataset(\n",
    "    df=splits[\"val\"],\n",
    "    tokenizer=tokenizer,\n",
    "    mode=\"val\",\n",
    "    max_seq_length=MAX_SEQ_LEN\n",
    ")\n",
    "\n",
    "test_dataset = TextClassificationDataset(\n",
    "    df=test_df,\n",
    "    tokenizer=tokenizer,\n",
    "    mode=\"test\",\n",
    "    max_seq_length=MAX_SEQ_LEN\n",
    ")"
   ]
  },
  {
   "cell_type": "code",
   "execution_count": null,
   "id": "decreased-shanghai",
   "metadata": {},
   "outputs": [],
   "source": [
    "# train_dataset = Subset(train_dataset, list(range(16)))\n",
    "# valid_dataset = Subset(valid_dataset, list(range(16)))\n",
    "# test_dataset = Subset(test_dataset, 20)"
   ]
  },
  {
   "cell_type": "code",
   "execution_count": null,
   "id": "executed-winner",
   "metadata": {},
   "outputs": [],
   "source": [
    "train_data_loader = DataLoader(\n",
    "    dataset=train_dataset,\n",
    "    batch_size=BATCH_SIZE,\n",
    "    shuffle=True,\n",
    ")\n",
    "\n",
    "val_data_loader = DataLoader(\n",
    "    dataset=valid_dataset,\n",
    "    batch_size=BATCH_SIZE,\n",
    "    shuffle=False,\n",
    ")\n",
    "\n",
    "test_data_loader = DataLoader(\n",
    "    dataset=test_dataset,\n",
    "    batch_size=BATCH_SIZE,\n",
    "    shuffle=False,\n",
    ")"
   ]
  },
  {
   "cell_type": "code",
   "execution_count": null,
   "id": "assured-evidence",
   "metadata": {},
   "outputs": [],
   "source": [
    "dataloaders = {\n",
    "    \"train\": train_data_loader,\n",
    "    \"val\": val_data_loader,\n",
    "    \"test\": test_data_loader\n",
    "}"
   ]
  },
  {
   "cell_type": "code",
   "execution_count": null,
   "id": "similar-wilderness",
   "metadata": {},
   "outputs": [],
   "source": [
    "mini_batch_data = next(iter(val_data_loader))\n",
    "mini_batch_data.keys()"
   ]
  },
  {
   "cell_type": "code",
   "execution_count": null,
   "id": "ordered-classics",
   "metadata": {},
   "outputs": [],
   "source": [
    "print(mini_batch_data['input_ids'].shape)\n",
    "print(mini_batch_data['attention_mask'].shape)\n",
    "print(mini_batch_data['targets'].shape)"
   ]
  },
  {
   "cell_type": "code",
   "execution_count": null,
   "id": "specific-catholic",
   "metadata": {},
   "outputs": [],
   "source": [
    "tokenizer.decode(mini_batch_data['input_ids'][0])"
   ]
  },
  {
   "cell_type": "markdown",
   "id": "assured-chemistry",
   "metadata": {},
   "source": [
    "### Model Setup"
   ]
  },
  {
   "cell_type": "code",
   "execution_count": 27,
   "id": "downtown-physiology",
   "metadata": {},
   "outputs": [],
   "source": [
    "model = TextClassifier(\n",
    "    n_classes=splits[\"train\"][\"source\"].unique().shape[0],\n",
    "    pretrained_model_name=MODEL_NAME,\n",
    "    dropout=0.4\n",
    ").to(device)"
   ]
  },
  {
   "cell_type": "markdown",
   "id": "figured-founder",
   "metadata": {},
   "source": [
    "### Metrics"
   ]
  },
  {
   "cell_type": "code",
   "execution_count": 28,
   "id": "eligible-idaho",
   "metadata": {},
   "outputs": [],
   "source": [
    "metrics = {\n",
    "    \"f1_macro\": f1_macro\n",
    "}"
   ]
  },
  {
   "cell_type": "markdown",
   "id": "greatest-ladder",
   "metadata": {},
   "source": [
    "### Tensorboard setup"
   ]
  },
  {
   "cell_type": "code",
   "execution_count": 29,
   "id": "figured-equity",
   "metadata": {},
   "outputs": [],
   "source": [
    "model_name = f\"xlm-roberta-base-title-{int(datetime.datetime.now().timestamp())}\"\n",
    "writer = get_tensorboard_writer(logs_dir, model_name) "
   ]
  },
  {
   "cell_type": "code",
   "execution_count": 30,
   "id": "first-producer",
   "metadata": {},
   "outputs": [],
   "source": [
    "optimizer = AdamW([\n",
    "    {\"params\": model.bert.parameters(), \"lr\": 2e-6},\n",
    "    {\"params\": model.out.parameters(), \"lr\": 2e-3}], \n",
    "    correct_bias=False\n",
    ")\n",
    "total_steps = len(train_data_loader) * EPOCHS\n",
    "scheduler = get_linear_schedule_with_warmup(\n",
    "    optimizer, num_warmup_steps=0, num_training_steps=total_steps\n",
    ")\n",
    "criterion = nn.CrossEntropyLoss().to(device)"
   ]
  },
  {
   "cell_type": "code",
   "execution_count": 31,
   "id": "polished-bunch",
   "metadata": {},
   "outputs": [
    {
     "name": "stderr",
     "output_type": "stream",
     "text": [
      "Epoch: 1/8, train phase: 100%|██████████| 318/318 [02:15<00:00,  2.35it/s]\n",
      "Epoch: 1/8, validation phase: 100%|██████████| 80/80 [00:10<00:00,  7.87it/s]\n"
     ]
    },
    {
     "name": "stdout",
     "output_type": "stream",
     "text": [
      "{'f1_macro': 0.394707656285295}\n",
      "Epoch: 1/8, time: 145.3797149658203 train loss: 1.6102171202746407, val loss: 1.1521792563311573\n"
     ]
    },
    {
     "name": "stderr",
     "output_type": "stream",
     "text": [
      "Epoch: 2/8, train phase:   0%|          | 0/318 [00:00<?, ?it/s]"
     ]
    },
    {
     "name": "stdout",
     "output_type": "stream",
     "text": [
      "Checkpoint was saved\n"
     ]
    },
    {
     "name": "stderr",
     "output_type": "stream",
     "text": [
      "Epoch: 2/8, train phase: 100%|██████████| 318/318 [02:11<00:00,  2.42it/s]\n",
      "Epoch: 2/8, validation phase: 100%|██████████| 80/80 [00:10<00:00,  7.82it/s]\n"
     ]
    },
    {
     "name": "stdout",
     "output_type": "stream",
     "text": [
      "{'f1_macro': 0.4298801625734492}\n",
      "Epoch: 2/8, time: 141.58298468589783 train loss: 1.1807849937361046, val loss: 1.0107506136588862\n"
     ]
    },
    {
     "name": "stderr",
     "output_type": "stream",
     "text": [
      "Epoch: 3/8, train phase:   0%|          | 0/318 [00:00<?, ?it/s]"
     ]
    },
    {
     "name": "stdout",
     "output_type": "stream",
     "text": [
      "Checkpoint was saved\n"
     ]
    },
    {
     "name": "stderr",
     "output_type": "stream",
     "text": [
      "Epoch: 3/8, train phase: 100%|██████████| 318/318 [02:11<00:00,  2.42it/s]\n",
      "Epoch: 3/8, validation phase: 100%|██████████| 80/80 [00:10<00:00,  7.78it/s]\n"
     ]
    },
    {
     "name": "stdout",
     "output_type": "stream",
     "text": [
      "{'f1_macro': 0.4462308664882455}\n",
      "Epoch: 3/8, time: 141.64145350456238 train loss: 1.0576962948679625, val loss: 0.9660305024837625\n"
     ]
    },
    {
     "name": "stderr",
     "output_type": "stream",
     "text": [
      "Epoch: 4/8, train phase:   0%|          | 0/318 [00:00<?, ?it/s]"
     ]
    },
    {
     "name": "stdout",
     "output_type": "stream",
     "text": [
      "Checkpoint was saved\n"
     ]
    },
    {
     "name": "stderr",
     "output_type": "stream",
     "text": [
      "Epoch: 4/8, train phase: 100%|██████████| 318/318 [02:11<00:00,  2.42it/s]\n",
      "Epoch: 4/8, validation phase: 100%|██████████| 80/80 [00:10<00:00,  7.83it/s]\n"
     ]
    },
    {
     "name": "stdout",
     "output_type": "stream",
     "text": [
      "{'f1_macro': 0.45322378393497464}\n",
      "Epoch: 4/8, time: 141.61314582824707 train loss: 0.9856315923819187, val loss: 0.9481701332125171\n"
     ]
    },
    {
     "name": "stderr",
     "output_type": "stream",
     "text": [
      "Epoch: 5/8, train phase:   0%|          | 0/318 [00:00<?, ?it/s]"
     ]
    },
    {
     "name": "stdout",
     "output_type": "stream",
     "text": [
      "Checkpoint was saved\n"
     ]
    },
    {
     "name": "stderr",
     "output_type": "stream",
     "text": [
      "Epoch: 5/8, train phase: 100%|██████████| 318/318 [02:11<00:00,  2.41it/s]\n",
      "Epoch: 5/8, validation phase: 100%|██████████| 80/80 [00:10<00:00,  7.76it/s]\n"
     ]
    },
    {
     "name": "stdout",
     "output_type": "stream",
     "text": [
      "{'f1_macro': 0.4554658406919099}\n",
      "Epoch: 5/8, time: 142.10412073135376 train loss: 0.9411767890358995, val loss: 0.9536448428431168\n"
     ]
    },
    {
     "name": "stderr",
     "output_type": "stream",
     "text": [
      "Epoch: 6/8, train phase:   0%|          | 0/318 [00:00<?, ?it/s]"
     ]
    },
    {
     "name": "stdout",
     "output_type": "stream",
     "text": [
      "Checkpoint was saved\n"
     ]
    },
    {
     "name": "stderr",
     "output_type": "stream",
     "text": [
      "Epoch: 6/8, train phase: 100%|██████████| 318/318 [02:11<00:00,  2.41it/s]\n",
      "Epoch: 6/8, validation phase: 100%|██████████| 80/80 [00:10<00:00,  7.79it/s]\n"
     ]
    },
    {
     "name": "stdout",
     "output_type": "stream",
     "text": [
      "{'f1_macro': 0.46704377377255524}\n",
      "Epoch: 6/8, time: 142.16944122314453 train loss: 0.907019407201799, val loss: 0.9408403046730117\n"
     ]
    },
    {
     "name": "stderr",
     "output_type": "stream",
     "text": [
      "Epoch: 7/8, train phase:   0%|          | 0/318 [00:00<?, ?it/s]"
     ]
    },
    {
     "name": "stdout",
     "output_type": "stream",
     "text": [
      "Checkpoint was saved\n"
     ]
    },
    {
     "name": "stderr",
     "output_type": "stream",
     "text": [
      "Epoch: 7/8, train phase: 100%|██████████| 318/318 [02:12<00:00,  2.41it/s]\n",
      "Epoch: 7/8, validation phase: 100%|██████████| 80/80 [00:10<00:00,  7.87it/s]\n"
     ]
    },
    {
     "name": "stdout",
     "output_type": "stream",
     "text": [
      "{'f1_macro': 0.46789807140139306}\n",
      "Epoch: 7/8, time: 142.1951265335083 train loss: 0.8959412703094431, val loss: 0.9274874422820331\n"
     ]
    },
    {
     "name": "stderr",
     "output_type": "stream",
     "text": [
      "Epoch: 8/8, train phase:   0%|          | 0/318 [00:00<?, ?it/s]"
     ]
    },
    {
     "name": "stdout",
     "output_type": "stream",
     "text": [
      "Checkpoint was saved\n"
     ]
    },
    {
     "name": "stderr",
     "output_type": "stream",
     "text": [
      "Epoch: 8/8, train phase: 100%|██████████| 318/318 [02:11<00:00,  2.41it/s]\n",
      "Epoch: 8/8, validation phase: 100%|██████████| 80/80 [00:10<00:00,  7.83it/s]\n"
     ]
    },
    {
     "name": "stdout",
     "output_type": "stream",
     "text": [
      "{'f1_macro': 0.4699196625042602}\n",
      "Epoch: 8/8, time: 142.09409165382385 train loss: 0.8755619127213594, val loss: 0.9252029899540793\n",
      "Checkpoint was saved\n"
     ]
    }
   ],
   "source": [
    "fit(\n",
    "    model,\n",
    "    criterion,\n",
    "    optimizer,\n",
    "    dataloaders,\n",
    "    device,\n",
    "    scheduler=scheduler,\n",
    "    metrics=metrics,\n",
    "    epochs=EPOCHS,\n",
    "    model_name=model_name,\n",
    "    model_folder=states_dir,\n",
    "    writer=writer\n",
    ")"
   ]
  },
  {
   "cell_type": "markdown",
   "id": "decent-variance",
   "metadata": {},
   "source": [
    "## Evaluation"
   ]
  },
  {
   "cell_type": "code",
   "execution_count": null,
   "id": "typical-behavior",
   "metadata": {},
   "outputs": [],
   "source": [
    "checkpoint_path = states_dir / \"epoch-14-youscan-ukr-roberta-base-1616447037-checkpoint.pt\""
   ]
  },
  {
   "cell_type": "code",
   "execution_count": null,
   "id": "ecological-vietnamese",
   "metadata": {},
   "outputs": [],
   "source": [
    "model = TextClassifier(\n",
    "    n_classes=splits[\"train\"][\"source\"].unique().shape[0],\n",
    "    pretrained_model_name=MODEL_NAME,\n",
    "    dropout=0.4\n",
    ")"
   ]
  },
  {
   "cell_type": "code",
   "execution_count": null,
   "id": "chubby-turkey",
   "metadata": {},
   "outputs": [],
   "source": [
    "checkpoint = torch.load(checkpoint_path, map_location=torch.device(\"cpu\"))\n",
    "model.load_state_dict(checkpoint[\"model_state_dict\"])\n",
    "print(\"Models have been loaded\")\n",
    "\n",
    "model = model.to(device)"
   ]
  },
  {
   "cell_type": "code",
   "execution_count": null,
   "id": "changing-counter",
   "metadata": {},
   "outputs": [],
   "source": [
    "predictions, _ = eval_nlp(model, dataloaders[\"test\"], device)"
   ]
  },
  {
   "cell_type": "code",
   "execution_count": null,
   "id": "initial-dragon",
   "metadata": {},
   "outputs": [],
   "source": [
    "test_df[\"Predicted\"] = predictions"
   ]
  },
  {
   "cell_type": "code",
   "execution_count": null,
   "id": "european-intelligence",
   "metadata": {},
   "outputs": [],
   "source": [
    "submission_df = test_df[[\"Id\", \"Predicted\"]]"
   ]
  },
  {
   "cell_type": "code",
   "execution_count": null,
   "id": "different-motivation",
   "metadata": {},
   "outputs": [],
   "source": [
    "submission_df.to_csv(submissions / f\"youscan-roberta-{int(datetime.datetime.now().timestamp())}.csv\", index=False)"
   ]
  },
  {
   "cell_type": "code",
   "execution_count": null,
   "id": "tough-concept",
   "metadata": {},
   "outputs": [],
   "source": []
  }
 ],
 "metadata": {
  "kernelspec": {
   "display_name": "Python 3",
   "language": "python",
   "name": "python3"
  },
  "language_info": {
   "codemirror_mode": {
    "name": "ipython",
    "version": 3
   },
   "file_extension": ".py",
   "mimetype": "text/x-python",
   "name": "python",
   "nbconvert_exporter": "python",
   "pygments_lexer": "ipython3",
   "version": "3.8.5"
  }
 },
 "nbformat": 4,
 "nbformat_minor": 5
}
